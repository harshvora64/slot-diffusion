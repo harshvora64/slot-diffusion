{
 "cells": [
  {
   "cell_type": "code",
   "execution_count": 32,
   "metadata": {},
   "outputs": [],
   "source": [
    "import torch.nn as nn\n",
    "import torch.nn.functional as F\n",
    "import torch\n",
    "import numpy as np\n",
    "import torch.optim as optim\n",
    "import os\n",
    "device = torch.device(\"cuda\" if torch.cuda.is_available() else \"cpu\")\n",
    "from PIL import Image\n",
    "import h5py\n",
    "n_epochs = 1\n",
    "from torch.utils.data import DataLoader\n",
    "path = 'A2_dataset/dataset/'"
   ]
  },
  {
   "cell_type": "code",
   "execution_count": 33,
   "metadata": {},
   "outputs": [],
   "source": [
    "def preprocess(path, resize_shape, center_crop_shape, to_crop = True):\n",
    "    data = []\n",
    "    count = 64\n",
    "    for f in os.listdir(path):\n",
    "        img = Image.open(path + f)\n",
    "        size = img.size\n",
    "        # print(size)\n",
    "        img = np.array(img)\n",
    "        img.resize(size[1], size[0], 3)\n",
    "        # print(img.shape)\n",
    "        img = img.transpose(2, 0, 1)\n",
    "        if(to_crop):\n",
    "            img = img[:, center_crop_shape[0]:center_crop_shape[1], center_crop_shape[2]:center_crop_shape[3]]\n",
    "        img = img.flatten()\n",
    "        img.resize(resize_shape)\n",
    "        img = torch.Tensor(img)\n",
    "        data.append(img)\n",
    "        count -= 1\n",
    "        # if(count == 0):\n",
    "        #     break\n",
    "\n",
    "    return data\n",
    "    \n",
    "with h5py.File('A2_dataset/train_dataset.h5', 'w') as hdf5_file:\n",
    "    train_images = preprocess(path + 'images/train/', (3, 128, 128), (29, 221, 64, 256))\n",
    "    hdf5_file.create_dataset('images', shape = (len(train_images),3, 128, 128), data = train_images)\n",
    "    train_masks = preprocess(path + 'masks/train/', (3, 128, 128), (29, 221, 64, 256))\n",
    "    hdf5_file.create_dataset('masks', shape = (len(train_masks), 3, 128, 128), data = train_masks)\n",
    "\n",
    "with h5py.File('A2_dataset/val_dataset.h5', 'w') as hdf5_file:\n",
    "    val_images = preprocess(path + 'images/val/', (3, 128, 128), (0, 128, 0, 128), False)\n",
    "    hdf5_file.create_dataset('images', shape = (len(val_images), 3, 128, 128), data = val_images)\n",
    "    val_masks = preprocess(path + 'masks/val/', (3, 128, 128), (0, 128, 0, 128), False)\n",
    "    hdf5_file.create_dataset('masks', shape = (len(val_masks), 3, 128, 128), data = val_masks)\n",
    "\n"
   ]
  },
  {
   "cell_type": "code",
   "execution_count": null,
   "metadata": {},
   "outputs": [],
   "source": []
  },
  {
   "cell_type": "code",
   "execution_count": null,
   "metadata": {},
   "outputs": [],
   "source": []
  }
 ],
 "metadata": {
  "kernelspec": {
   "display_name": "Python 3",
   "language": "python",
   "name": "python3"
  },
  "language_info": {
   "codemirror_mode": {
    "name": "ipython",
    "version": 3
   },
   "file_extension": ".py",
   "mimetype": "text/x-python",
   "name": "python",
   "nbconvert_exporter": "python",
   "pygments_lexer": "ipython3",
   "version": "3.12.2"
  }
 },
 "nbformat": 4,
 "nbformat_minor": 2
}
